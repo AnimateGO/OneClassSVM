{
 "cells": [
  {
   "cell_type": "code",
   "execution_count": null,
   "metadata": {},
   "outputs": [],
   "source": [
    "#import of library\n",
    "#必要なライブラリのインポート"
   ]
  },
  {
   "cell_type": "code",
   "execution_count": null,
   "metadata": {},
   "outputs": [],
   "source": [
    "#list of variable\n",
    "#変数リスト\n",
    "#Division number\n",
    "#分割数\n",
    "cv = 10\n",
    "#research gamma\n",
    "#調べたいガンマ\n",
    "gamma_list = np.logspace(-3, 1, 5)\n",
    "#research nu\n",
    "#調べたいν\n",
    "nu_list = np.logspace(-3,-0.5,5)\n",
    "\n",
    "#Number of test data\n",
    "#実験データの数\n",
    "data_range = 1000\n",
    "\n",
    "#その他必要な変数\n",
    "x_train = []\n",
    "y_train = []\n",
    "x_test = []\n",
    "y_test = []\n",
    "train_label = []\n",
    "test_label = []\n",
    "\n",
    "divide = data_range/cv\n",
    "\n",
    "tmp_train = []\n",
    "tmp_test = []"
   ]
  },
  {
   "cell_type": "code",
   "execution_count": null,
   "metadata": {},
   "outputs": [],
   "source": [
    "#Creating test data\n",
    "#学習、テストデータの作成\n",
    "\n",
    "for i in range(data_range):\n",
    "    x_train.append(normal(0,0.1))\n",
    "    y_train.append(normal(0,0.1))\n",
    "xy_train = np.c_[x_train, y_train]\n",
    "\n",
    "for i in range(data_range):\n",
    "    x_test.append(normal(0,0.1))\n",
    "    y_test.append(normal(0,0.1))\n",
    "xy_test = np.c_[x_test, y_test]\n"
   ]
  },
  {
   "cell_type": "code",
   "execution_count": null,
   "metadata": {},
   "outputs": [],
   "source": [
    "#Creating data_label\n",
    "#データラベルの作成\n",
    "\n",
    "for i in range(data_range):\n",
    "    if (math.sqrt(xy_train[i,0]**2 + xy_train[i,1]**2)) > 0.3:\n",
    "        train_label.append(-1)\n",
    "    else:\n",
    "        train_label.append(1)\n",
    "        \n",
    "for j in range(data_range):\n",
    "    if(math.sqrt(xy_test[j,0]**2 + xy_test[j,1]**2)) > 0.3:\n",
    "        test_label.append(-1)\n",
    "    else:\n",
    "        test_label.append(1)"
   ]
  },
  {
   "cell_type": "code",
   "execution_count": null,
   "metadata": {},
   "outputs": [],
   "source": [
    "#grid_search and cross_validation\n",
    "\n",
    "for gamma in gamma_list:\n",
    "    for nu in nu_list:\n",
    "        \n",
    "        for i in range(data_range):\n",
    "            \n",
    "            tmp_test.extend(xy_train[i*divide: ((i+1) * divide) -1])\n",
    "            tmp_train.extend(xy_train[0:i*divide])\n",
    "            tmp_train.extend(xy_train[((i+1) * divide) -1 : data_range -1])\n",
    "            \n",
    "            clf = svm.OneClassSVM(nu = nu, kernel=\"rbf\", gamma=gamma)\n",
    "        \n",
    "        "
   ]
  },
  {
   "cell_type": "code",
   "execution_count": null,
   "metadata": {},
   "outputs": [],
   "source": []
  }
 ],
 "metadata": {
  "kernelspec": {
   "display_name": "Python 3",
   "language": "python",
   "name": "python3"
  },
  "language_info": {
   "codemirror_mode": {
    "name": "ipython",
    "version": 3
   },
   "file_extension": ".py",
   "mimetype": "text/x-python",
   "name": "python",
   "nbconvert_exporter": "python",
   "pygments_lexer": "ipython3",
   "version": "3.7.0"
  }
 },
 "nbformat": 4,
 "nbformat_minor": 2
}
