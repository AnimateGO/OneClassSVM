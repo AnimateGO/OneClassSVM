{
 "cells": [
  {
   "cell_type": "code",
   "execution_count": 12,
   "metadata": {},
   "outputs": [],
   "source": [
    "# library\n",
    "from sklearn.datasets import make_blobs\n",
    "import numpy as np\n",
    "from sklearn.linear_model import LogisticRegression\n",
    "from sklearn.model_selection import train_test_split\n",
    "from sklearn.model_selection import cross_val_score\n",
    "from sklearn.datasets import load_iris\n",
    "from sklearn.linear_model import LogisticRegression\n",
    "from matplotlib import pyplot as plt\n",
    "%matplotlib inline\n",
    "from numpy.random import *\n",
    "from sklearn import svm\n",
    "import math"
   ]
  },
  {
   "cell_type": "code",
   "execution_count": 13,
   "metadata": {},
   "outputs": [],
   "source": [
    "#変数\n",
    "#分割数\n",
    "\n",
    "gamma_list = np.logspace(-3, 1, 5)\n",
    "nu_list = np.logspace(-3,-0.5,5)"
   ]
  },
  {
   "cell_type": "code",
   "execution_count": 14,
   "metadata": {},
   "outputs": [
    {
     "data": {
      "text/plain": [
       "<matplotlib.collections.PathCollection at 0x7f7e41f1e978>"
      ]
     },
     "execution_count": 14,
     "metadata": {},
     "output_type": "execute_result"
    },
    {
     "data": {
      "image/png": "[encoded data removed]",
      "text/plain": [
       "<Figure size 432x288 with 1 Axes>"
      ]
     },
     "metadata": {},
     "output_type": "display_data"
    }
   ],
   "source": [
    "#テストデータの作成\n",
    "x_random = []\n",
    "y_random = []\n",
    "\n",
    "x_test = []\n",
    "y_test = []\n",
    "\n",
    "for i in range(1000):\n",
    "    x_test.append(normal(0,0.1))\n",
    "    y_test.append(normal(0,0.1))\n",
    "xy_test = np.c_[x_test, y_test]\n",
    "\n",
    "for i in range(1000):\n",
    "    x_random.append(normal(0,0.1))\n",
    "    y_random.append(normal(0,0.1))\n",
    "xy_random = np.c_[x_random, y_random]\n",
    "\n",
    "plt.scatter(xy_random[:, 0], xy_random[:, 1], color='red')\n",
    "plt.scatter(xy_test[:, 0], xy_test[:, 1], color='blue')"
   ]
  },
  {
   "cell_type": "code",
   "execution_count": 15,
   "metadata": {},
   "outputs": [
    {
     "data": {
      "text/plain": [
       "0.18127358852623124"
      ]
     },
     "execution_count": 15,
     "metadata": {},
     "output_type": "execute_result"
    }
   ],
   "source": [
    "gamma = ([0.001, 0.01, 0.1, 1, 10])\n",
    "nu = ([0.001, 0.005, 0.01, 0.05, 0.1, 0.5])\n",
    "cv = 5\n",
    "divide = len(xy_random)/cv\n",
    "closs_val = len(xy_random)\n",
    "\n",
    "math.sqrt(xy_random[0,0]**2 + xy_random[0,1]**2)"
   ]
  },
  {
   "cell_type": "code",
   "execution_count": 16,
   "metadata": {},
   "outputs": [],
   "source": [
    "label = []\n",
    "test_label = []\n",
    "for i in range(1000):\n",
    "    if (math.sqrt(xy_random[i,0]**2 + xy_random[i,1]**2)) > 0.3:\n",
    "        label.append(-1)\n",
    "    else:\n",
    "        label.append(1)\n",
    "        \n",
    "for j in range(1000):\n",
    "    if(math.sqrt(xy_test[j,0]**2 + xy_test[j,1]**2)) > 0.3:\n",
    "        test_label.append(-1)\n",
    "    else:\n",
    "        test_label.append(1)"
   ]
  },
  {
   "cell_type": "code",
   "execution_count": 17,
   "metadata": {},
   "outputs": [],
   "source": [
    "test1,test2,test3,test4,test5 = [],[],[],[],[]\n",
    "fold1,fold2,fold3,fold4,fold5 = np.array_split(xy_random,cv)\n",
    "test1.extend(fold2)\n",
    "test1.extend(fold3)\n",
    "test1.extend(fold4)\n",
    "test1.extend(fold5)\n",
    "\n",
    "test2.extend(fold1)\n",
    "test2.extend(fold3)\n",
    "test2.extend(fold4)\n",
    "test2.extend(fold5)\n",
    "\n",
    "test3.extend(fold1)\n",
    "test3.extend(fold2)\n",
    "test3.extend(fold4)\n",
    "test3.extend(fold5)\n",
    "\n",
    "test4.extend(fold1)\n",
    "test4.extend(fold2)\n",
    "test4.extend(fold3)\n",
    "test4.extend(fold5)"
   ]
  },
  {
   "cell_type": "code",
   "execution_count": 17,
   "metadata": {},
   "outputs": [],
   "source": [
    "test5.extend(fold1)\n",
    "test5.extend(fold2)\n",
    "test5.extend(fold3)\n",
    "test5.extend(fold4)\n",
    "label1,label2,label3,label4,label5 = np.array_split(label,cv)"
   ]
  },
  {
   "cell_type": "code",
   "execution_count": 17,
   "metadata": {},
   "outputs": [],
   "source": []
  },
  {
   "cell_type": "code",
   "execution_count": 20,
   "metadata": {},
   "outputs": [
    {
     "name": "stdout",
     "output_type": "stream",
     "text": [
      "gamma: 0.001\n",
      "nu: 0.001\n",
      "best_acc: 0.02\n",
      "average_acc: 0.009999999999999998\n",
      "\n",
      "\n",
      "gamma: 0.001\n",
      "nu: 0.004216965034285823\n",
      "best_acc: 0.535\n",
      "average_acc: 0.28400000000000003\n",
      "\n",
      "\n",
      "gamma: 0.001\n",
      "nu: 0.01778279410038923\n",
      "best_acc: 1.0\n",
      "average_acc: 0.8290000000000001\n",
      "\n",
      "\n",
      "gamma: 0.001\n",
      "nu: 0.07498942093324558\n",
      "best_acc: 0.945\n",
      "average_acc: 0.932\n",
      "\n",
      "\n",
      "gamma: 0.001\n",
      "nu: 0.31622776601683794\n",
      "best_acc: 0.71\n",
      "average_acc: 0.6940000000000001\n",
      "\n",
      "\n",
      "gamma: 0.01\n",
      "nu: 0.001\n",
      "best_acc: 1.0\n",
      "average_acc: 0.9719999999999999\n",
      "\n",
      "\n",
      "gamma: 0.01\n",
      "nu: 0.004216965034285823\n",
      "best_acc: 0.995\n",
      "average_acc: 0.992\n",
      "\n",
      "\n",
      "gamma: 0.01\n",
      "nu: 0.01778279410038923\n",
      "best_acc: 1.0\n",
      "average_acc: 0.99\n",
      "\n",
      "\n",
      "gamma: 0.01\n",
      "nu: 0.07498942093324558\n",
      "best_acc: 0.945\n",
      "average_acc: 0.933\n",
      "\n",
      "\n",
      "gamma: 0.01\n",
      "nu: 0.31622776601683794\n",
      "best_acc: 0.71\n",
      "average_acc: 0.6940000000000001\n",
      "\n",
      "\n",
      "gamma: 0.1\n",
      "nu: 0.001\n",
      "best_acc: 1.0\n",
      "average_acc: 0.994\n",
      "\n",
      "\n",
      "gamma: 0.1\n",
      "nu: 0.004216965034285823\n",
      "best_acc: 1.0\n",
      "average_acc: 0.9959999999999999\n",
      "\n",
      "\n",
      "gamma: 0.1\n",
      "nu: 0.01778279410038923\n",
      "best_acc: 1.0\n",
      "average_acc: 0.9890000000000001\n",
      "\n",
      "\n",
      "gamma: 0.1\n",
      "nu: 0.07498942093324558\n",
      "best_acc: 0.945\n",
      "average_acc: 0.9349999999999999\n",
      "\n",
      "\n",
      "gamma: 0.1\n",
      "nu: 0.31622776601683794\n",
      "best_acc: 0.71\n",
      "average_acc: 0.6940000000000001\n",
      "\n",
      "\n",
      "gamma: 1.0\n",
      "nu: 0.001\n",
      "best_acc: 1.0\n",
      "average_acc: 0.994\n",
      "\n",
      "\n",
      "gamma: 1.0\n",
      "nu: 0.004216965034285823\n",
      "best_acc: 1.0\n",
      "average_acc: 0.9959999999999999\n",
      "\n",
      "\n",
      "gamma: 1.0\n",
      "nu: 0.01778279410038923\n",
      "best_acc: 1.0\n",
      "average_acc: 0.991\n",
      "\n",
      "\n",
      "gamma: 1.0\n",
      "nu: 0.07498942093324558\n",
      "best_acc: 0.945\n",
      "average_acc: 0.933\n",
      "\n",
      "\n",
      "gamma: 1.0\n",
      "nu: 0.31622776601683794\n",
      "best_acc: 0.71\n",
      "average_acc: 0.6940000000000001\n",
      "\n",
      "\n",
      "gamma: 10.0\n",
      "nu: 0.001\n",
      "best_acc: 1.0\n",
      "average_acc: 0.992\n",
      "\n",
      "\n",
      "gamma: 10.0\n",
      "nu: 0.004216965034285823\n",
      "best_acc: 1.0\n",
      "average_acc: 0.992\n",
      "\n",
      "\n",
      "gamma: 10.0\n",
      "nu: 0.01778279410038923\n",
      "best_acc: 0.995\n",
      "average_acc: 0.99\n",
      "\n",
      "\n",
      "gamma: 10.0\n",
      "nu: 0.07498942093324558\n",
      "best_acc: 0.945\n",
      "average_acc: 0.931\n",
      "\n",
      "\n",
      "gamma: 10.0\n",
      "nu: 0.31622776601683794\n",
      "best_acc: 0.72\n",
      "average_acc: 0.6950000000000001\n",
      "\n",
      "\n",
      "best\n",
      "gamma: 0.1\n",
      "nu:0.004216965034285823\n",
      "avarage_acc: 0.9959999999999999\n",
      "\n",
      "\n",
      "final_acc: 0.994\n"
     ]
    }
   ],
   "source": [
    "best_average_acc = 0\n",
    "for gamma in gamma_list:\n",
    "    for nu in nu_list:\n",
    "        clf = svm.OneClassSVM(nu = nu, kernel=\"rbf\", gamma=gamma)\n",
    "        clf.fit(test1)\n",
    "        pred = clf.predict(fold1)\n",
    "        acc1 =  len(pred[pred == label1])/divide\n",
    "        acc = acc1\n",
    "        \n",
    "        clf.fit(test2)\n",
    "        pred = clf.predict(fold2)\n",
    "        acc2 =  len(pred[pred == label2])/divide\n",
    "        if(acc2 > acc):\n",
    "            acc = acc2\n",
    "        \n",
    "        clf.fit(test3)\n",
    "        pred = clf.predict(fold3)\n",
    "        acc3 =  len(pred[pred == label3])/divide\n",
    "        if(acc3 > acc):\n",
    "            acc = acc3\n",
    "        \n",
    "        clf.fit(test4)\n",
    "        pred = clf.predict(fold4)\n",
    "        acc4 =  len(pred[pred == label4])/divide\n",
    "        if(acc4 > acc):\n",
    "            acc = acc4\n",
    "        \n",
    "        clf.fit(test5)\n",
    "        pred = clf.predict(fold5)\n",
    "        acc5 =  len(pred[pred == label5])/divide\n",
    "        if(acc5 > acc):\n",
    "            acc = acc5\n",
    "        \n",
    "        average_acc = (acc1+acc2+acc3+acc4+acc5)/cv\n",
    "        print(\"gamma: \" + str(gamma))\n",
    "        print(\"nu: \" + str(nu))\n",
    "        print(\"best_acc: \" + str(acc))\n",
    "        print(\"average_acc: \" + str(average_acc))\n",
    "        print(\"\\n\")\n",
    "        if(best_average_acc < average_acc):\n",
    "            best_average_acc = average_acc\n",
    "            best_gamma = gamma\n",
    "            best_nu = nu\n",
    "print(\"best\")\n",
    "print(\"gamma: \" + str(best_gamma))\n",
    "print(\"nu:\" + str(best_nu))\n",
    "print(\"avarage_acc: \" + str(best_average_acc))\n",
    "\n",
    "fin_clf = svm.OneClassSVM(nu = best_nu, kernel=\"rbf\", gamma=best_gamma)\n",
    "fin_clf.fit(xy_random)\n",
    "fin_pred = fin_clf.predict(xy_test)\n",
    "fin_acc = len(fin_pred[fin_pred == test_label])/1000\n",
    "print(\"\\n\")\n",
    "print(\"final_acc: \" + str(fin_acc))"
   ]
  },
  {
   "cell_type": "code",
   "execution_count": 19,
   "metadata": {},
   "outputs": [],
   "source": [
    "delta = 0.3\n",
    "xy_test_xmin = xy_test[:, 0].min() - delta\n",
    "xy_test_xmax = xy_test[:, 0].max() + delta\n",
    "xy_test_ymin = xy_test[:, 1].min() - delta\n",
    "xy_test_ymax = xy_test[:, 1].max() + delta\n",
    "grid_interval = 0.02\n",
    "xx, yy = np.meshgrid(\n",
    "    np.arange(xy_test_xmin, xy_test_xmax, grid_interval),\n",
    "    np.arange(xy_test_ymin, xy_test_ymax, grid_interval),\n",
    ")"
   ]
  },
  {
   "cell_type": "code",
   "execution_count": 9,
   "metadata": {},
   "outputs": [],
   "source": [
    "pred = fin_clf.predict(np.c_[xx.ravel(),yy.ravel()])\n",
    "pred = pred.reshape(xx.shape)"
   ]
  },
  {
   "cell_type": "code",
   "execution_count": 10,
   "metadata": {},
   "outputs": [
    {
     "data": {
      "image/png": "[encoded data removed]",
      "text/plain": [
       "<Figure size 432x288 with 1 Axes>"
      ]
     },
     "metadata": {},
     "output_type": "display_data"
    }
   ],
   "source": [
    "plt.scatter(xy_random[:, 0], xy_random[:, 1], color='red')\n",
    "plt.scatter(xy_test[:, 0], xy_test[:, 1], color='blue')\n",
    "\n",
    "\n",
    "plt.contourf(xx, yy, pred, cmap=plt.cm.bone, alpha=0.2)\n",
    "plt.autoscale()\n",
    "plt.grid()\n",
    "plt.show()"
   ]
  },
  {
   "cell_type": "code",
   "execution_count": null,
   "metadata": {},
   "outputs": [],
   "source": []
  },
  {
   "cell_type": "code",
   "execution_count": null,
   "metadata": {},
   "outputs": [],
   "source": []
  }
 ],
 "metadata": {
  "kernelspec": {
   "display_name": "Python 3",
   "language": "python",
   "name": "python3"
  },
  "language_info": {
   "codemirror_mode": {
    "name": "ipython",
    "version": 3
   },
   "file_extension": ".py",
   "mimetype": "text/x-python",
   "name": "python",
   "nbconvert_exporter": "python",
   "pygments_lexer": "ipython3",
   "version": "3.5.2"
  }
 },
 "nbformat": 4,
 "nbformat_minor": 2
}
