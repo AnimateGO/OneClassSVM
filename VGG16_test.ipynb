{
 "cells": [
  {
   "cell_type": "code",
   "execution_count": 25,
   "metadata": {},
   "outputs": [],
   "source": [
    "#必要なライブラリをインポート\n",
    "import os\n",
    "from keras.applications.vgg16 import VGG16, preprocess_input, decode_predictions\n",
    "from keras.preprocessing import image\n",
    "import keras.preprocessing.image as Image\n",
    "from keras.models import Model\n",
    "from keras.datasets import mnist\n",
    "from PIL import Image\n",
    "import numpy\n",
    "import numpy as np\n",
    "import matplotlib.pyplot as plt\n",
    "from sklearn import svm\n",
    "import tensorflow as tf\n",
    "from tensorflow import keras"
   ]
  },
  {
   "cell_type": "code",
   "execution_count": 26,
   "metadata": {},
   "outputs": [],
   "source": [
    "#VGG16のモデル設定\n",
    "base_model = VGG16(include_top=False, \n",
    "                   weights='imagenet',\n",
    "                  input_shape = (48,48,3))"
   ]
  },
  {
   "cell_type": "code",
   "execution_count": 27,
   "metadata": {},
   "outputs": [],
   "source": [
    "#fashion_mnistを読み込み\n",
    "fashion_mnist = keras.datasets.fashion_mnist\n",
    "(train_images, train_labels), (test_images, test_labels) = fashion_mnist.load_data()"
   ]
  },
  {
   "cell_type": "code",
   "execution_count": 4,
   "metadata": {},
   "outputs": [],
   "source": [
    "#npyで保存\n",
    "np.save(os.path.join(\"C:/Users/satok/.keras/datasets/\" , \"fashion_mnist_test.npy\"),train_images[0])"
   ]
  },
  {
   "cell_type": "code",
   "execution_count": null,
   "metadata": {},
   "outputs": [],
   "source": [
    "#画像を読み込んでnumpy形式に変換\n",
    "#VGG16に入力できるように整形（データの番号,縦,横,3）\n",
    "#パスは適宜変更する\n",
    "img = image.load_img(\"/home/baba/test_VGG16/gnct_symbol.jpg\",\n",
    "                    target_size = (224,224))\n",
    "x = image.img_to_array(img)\n",
    "x = np.expand_dims(x,axis = 0)\n",
    "x = x/255"
   ]
  },
  {
   "cell_type": "code",
   "execution_count": null,
   "metadata": {},
   "outputs": [],
   "source": [
    "#原型\n",
    "#(縦,横)の形にnumpy配列を整形\n",
    "test = x_test_1[108].reshape(28,28)\n",
    "\n",
    "#変形したnumpy配列をpilでリサイズして保存\n",
    "#saveは（保存するフォルダのパス , 保存したいファイルの名前.拡張子）\n",
    "pil_img = Image.fromarray(test)\n",
    "pil_img = pil_img.convert(\"RGB\")\n",
    "pil_img = pil_img.resize((224,224))\n",
    "pil_img.save(os.path.join(\"/home/baba/test_VGG16/\", 'mnist_test.jpg'))"
   ]
  },
  {
   "cell_type": "code",
   "execution_count": 42,
   "metadata": {},
   "outputs": [
    {
     "ename": "ValueError",
     "evalue": "cannot reshape array of size 512 into shape (1,1)",
     "output_type": "error",
     "traceback": [
      "\u001b[1;31m---------------------------------------------------------------------------\u001b[0m",
      "\u001b[1;31mValueError\u001b[0m                                Traceback (most recent call last)",
      "\u001b[1;32m<ipython-input-42-2c5382b04662>\u001b[0m in \u001b[0;36m<module>\u001b[1;34m\u001b[0m\n\u001b[0;32m      1\u001b[0m \u001b[1;31m#テスト用\u001b[0m\u001b[1;33m\u001b[0m\u001b[1;33m\u001b[0m\u001b[1;33m\u001b[0m\u001b[0m\n\u001b[0;32m      2\u001b[0m \u001b[1;31m#test = train_images[0].reshape(28,28)\u001b[0m\u001b[1;33m\u001b[0m\u001b[1;33m\u001b[0m\u001b[1;33m\u001b[0m\u001b[0m\n\u001b[1;32m----> 3\u001b[1;33m \u001b[0mtest\u001b[0m \u001b[1;33m=\u001b[0m \u001b[0mbottleneck_features_train\u001b[0m\u001b[1;33m[\u001b[0m\u001b[1;36m0\u001b[0m\u001b[1;33m]\u001b[0m\u001b[1;33m.\u001b[0m\u001b[0mreshape\u001b[0m\u001b[1;33m(\u001b[0m\u001b[1;36m1\u001b[0m\u001b[1;33m,\u001b[0m\u001b[1;36m1\u001b[0m\u001b[1;33m)\u001b[0m\u001b[1;33m\u001b[0m\u001b[1;33m\u001b[0m\u001b[0m\n\u001b[0m\u001b[0;32m      4\u001b[0m \u001b[1;31m#test.shape\u001b[0m\u001b[1;33m\u001b[0m\u001b[1;33m\u001b[0m\u001b[1;33m\u001b[0m\u001b[0m\n\u001b[0;32m      5\u001b[0m \u001b[1;31m#i = 0\u001b[0m\u001b[1;33m\u001b[0m\u001b[1;33m\u001b[0m\u001b[1;33m\u001b[0m\u001b[0m\n",
      "\u001b[1;31mValueError\u001b[0m: cannot reshape array of size 512 into shape (1,1)"
     ]
    }
   ],
   "source": [
    "#テスト用\n",
    "#test = train_images[0].reshape(28,28)\n",
    "test = bottleneck_features_train[0].reshape(1,1)\n",
    "#test.shape\n",
    "#i = 0\n",
    "\n",
    "pil_img = Image.fromarray(test)\n",
    "pil_img = pil_img.convert(\"RGB\")\n",
    "#pil_img = pil_img.resize((48,48))\n",
    "#pil_img.save(os.path.join(\"C:/Users/satok/.keras/datasets/fashion-mnist-images\" , \"fashion_mnist_test\"+\"%03.f\"%(i)+\".jpg\"))\n",
    "pil_img.save(os.path.join(\"C:/Users/satok/.keras/datasets/\" , \"fashion_mnist_bottleneck_test_48_48.jpg\"))"
   ]
  },
  {
   "cell_type": "code",
   "execution_count": 4,
   "metadata": {},
   "outputs": [],
   "source": [
    "piltest_img = Image.fromarray(train_images[0])\n",
    "piltest_img = piltest_img.convert(\"RGB\")\n",
    "piltest_img = piltest_img.resize((224,224), Image.BICUBIC)\n",
    "\n",
    "img_array = numpy.asarray(piltest_img)\n",
    "img_array.shape\n",
    "\n",
    "#train_images = np.expand_dims(train_images,axis = 0)\n",
    "#test = train_images[0].reshape(28,28,1) * 255\n",
    "#test.shape"
   ]
  },
  {
   "cell_type": "code",
   "execution_count": 13,
   "metadata": {},
   "outputs": [
    {
     "data": {
      "text/plain": [
       "(10, 224, 224, 3)"
      ]
     },
     "execution_count": 13,
     "metadata": {},
     "output_type": "execute_result"
    }
   ],
   "source": [
    "#画像を保存せずにできるようにするテスト\n",
    "#train_imageから10個結合する\n",
    "img_array_list = []\n",
    "\n",
    "for i in range(10):\n",
    "    piltest_img = Image.fromarray(train_images[i])\n",
    "    piltest_img = piltest_img.convert(\"RGB\")\n",
    "    piltest_img = piltest_img.resize((224,224), Image.BICUBIC)\n",
    "    \n",
    "    img_array = numpy.asarray(piltest_img)\n",
    "    img_array_list.append(img_array)\n",
    "img_array_list = np.array(img_array_list)\n",
    "img_array_list.shape"
   ]
  },
  {
   "cell_type": "code",
   "execution_count": 28,
   "metadata": {},
   "outputs": [
    {
     "data": {
      "text/plain": [
       "(60000, 48, 48, 3)"
      ]
     },
     "execution_count": 28,
     "metadata": {},
     "output_type": "execute_result"
    }
   ],
   "source": [
    "img_array_list = []\n",
    "\n",
    "for i in range(len(train_images)):\n",
    "    piltest_img = Image.fromarray(train_images[i])\n",
    "    piltest_img = piltest_img.convert(\"RGB\")\n",
    "    piltest_img = piltest_img.resize((48,48), Image.BICUBIC)\n",
    "    \n",
    "    img_array = numpy.asarray(piltest_img)\n",
    "    img_array_list.append(img_array)\n",
    "img_array_list = np.array(img_array_list)\n",
    "img_array_list.shape"
   ]
  },
  {
   "cell_type": "code",
   "execution_count": 29,
   "metadata": {},
   "outputs": [],
   "source": [
    "img_array_list = img_array_list/255"
   ]
  },
  {
   "cell_type": "code",
   "execution_count": 30,
   "metadata": {},
   "outputs": [],
   "source": [
    "np.save(os.path.join(\"C:/Users/satok/.keras/datasets/\" , \"fashion_mnist_48_48_BICUBIC.npy\"),img_array_list)"
   ]
  },
  {
   "cell_type": "code",
   "execution_count": 32,
   "metadata": {},
   "outputs": [],
   "source": [
    "bottleneck_features_train = base_model.predict(img_array_list)"
   ]
  },
  {
   "cell_type": "code",
   "execution_count": 38,
   "metadata": {},
   "outputs": [
    {
     "name": "stdout",
     "output_type": "stream",
     "text": [
      "(60000, 1, 1, 512)\n"
     ]
    }
   ],
   "source": [
    "print(bottleneck_features_train.shape)"
   ]
  },
  {
   "cell_type": "code",
   "execution_count": 46,
   "metadata": {},
   "outputs": [
    {
     "data": {
      "text/plain": [
       "array([[[6.9596207e-01, 0.0000000e+00, 8.4240717e-01, 0.0000000e+00,\n",
       "         0.0000000e+00, 0.0000000e+00, 8.4752446e-01, 0.0000000e+00,\n",
       "         0.0000000e+00, 0.0000000e+00, 0.0000000e+00, 0.0000000e+00,\n",
       "         1.3621111e-01, 0.0000000e+00, 0.0000000e+00, 0.0000000e+00,\n",
       "         0.0000000e+00, 0.0000000e+00, 0.0000000e+00, 0.0000000e+00,\n",
       "         0.0000000e+00, 0.0000000e+00, 0.0000000e+00, 1.8431908e-01,\n",
       "         4.5020089e-02, 0.0000000e+00, 1.2275374e+00, 9.4672376e-01,\n",
       "         0.0000000e+00, 0.0000000e+00, 0.0000000e+00, 7.4640594e-02,\n",
       "         1.1900810e+00, 0.0000000e+00, 0.0000000e+00, 0.0000000e+00,\n",
       "         1.1115366e-01, 0.0000000e+00, 0.0000000e+00, 0.0000000e+00,\n",
       "         0.0000000e+00, 0.0000000e+00, 0.0000000e+00, 0.0000000e+00,\n",
       "         8.0665350e-01, 9.0157086e-01, 0.0000000e+00, 0.0000000e+00,\n",
       "         0.0000000e+00, 0.0000000e+00, 0.0000000e+00, 0.0000000e+00,\n",
       "         0.0000000e+00, 0.0000000e+00, 0.0000000e+00, 6.1220866e-01,\n",
       "         0.0000000e+00, 0.0000000e+00, 0.0000000e+00, 8.1563425e-01,\n",
       "         0.0000000e+00, 0.0000000e+00, 0.0000000e+00, 0.0000000e+00,\n",
       "         0.0000000e+00, 0.0000000e+00, 0.0000000e+00, 0.0000000e+00,\n",
       "         0.0000000e+00, 0.0000000e+00, 0.0000000e+00, 1.8215029e+00,\n",
       "         0.0000000e+00, 0.0000000e+00, 0.0000000e+00, 0.0000000e+00,\n",
       "         8.7178689e-01, 3.2291490e-01, 0.0000000e+00, 0.0000000e+00,\n",
       "         0.0000000e+00, 5.8091259e-01, 0.0000000e+00, 1.8785590e-01,\n",
       "         0.0000000e+00, 0.0000000e+00, 0.0000000e+00, 0.0000000e+00,\n",
       "         0.0000000e+00, 6.0727477e-01, 0.0000000e+00, 0.0000000e+00,\n",
       "         0.0000000e+00, 0.0000000e+00, 0.0000000e+00, 0.0000000e+00,\n",
       "         0.0000000e+00, 4.9586076e-01, 2.3093911e-01, 0.0000000e+00,\n",
       "         0.0000000e+00, 1.1038849e-01, 1.6114727e-01, 0.0000000e+00,\n",
       "         6.9664484e-01, 0.0000000e+00, 2.0616639e-01, 0.0000000e+00,\n",
       "         1.3656416e+00, 1.4688698e+00, 5.0770462e-01, 0.0000000e+00,\n",
       "         0.0000000e+00, 2.0400770e+00, 0.0000000e+00, 0.0000000e+00,\n",
       "         5.7077967e-02, 6.9553363e-01, 0.0000000e+00, 0.0000000e+00,\n",
       "         1.3504234e-01, 0.0000000e+00, 0.0000000e+00, 2.3413756e-01,\n",
       "         1.8769121e-01, 0.0000000e+00, 0.0000000e+00, 0.0000000e+00,\n",
       "         0.0000000e+00, 9.9694297e-02, 0.0000000e+00, 0.0000000e+00,\n",
       "         0.0000000e+00, 0.0000000e+00, 0.0000000e+00, 0.0000000e+00,\n",
       "         2.2885201e+00, 0.0000000e+00, 3.8149381e-01, 2.6102167e-01,\n",
       "         0.0000000e+00, 0.0000000e+00, 1.9684467e-02, 0.0000000e+00,\n",
       "         0.0000000e+00, 0.0000000e+00, 0.0000000e+00, 0.0000000e+00,\n",
       "         0.0000000e+00, 0.0000000e+00, 2.6637167e-01, 0.0000000e+00,\n",
       "         0.0000000e+00, 0.0000000e+00, 2.6893240e-01, 9.6807604e+00,\n",
       "         0.0000000e+00, 5.3271621e-01, 0.0000000e+00, 1.1613172e-01,\n",
       "         1.2935379e-01, 0.0000000e+00, 0.0000000e+00, 6.2201440e-01,\n",
       "         0.0000000e+00, 0.0000000e+00, 0.0000000e+00, 0.0000000e+00,\n",
       "         3.9061904e-01, 0.0000000e+00, 0.0000000e+00, 4.9550846e-02,\n",
       "         3.1873554e-02, 6.2440932e-01, 0.0000000e+00, 0.0000000e+00,\n",
       "         0.0000000e+00, 3.8536656e-01, 0.0000000e+00, 0.0000000e+00,\n",
       "         0.0000000e+00, 0.0000000e+00, 0.0000000e+00, 0.0000000e+00,\n",
       "         0.0000000e+00, 3.8880062e-01, 2.5345683e-03, 0.0000000e+00,\n",
       "         0.0000000e+00, 0.0000000e+00, 0.0000000e+00, 0.0000000e+00,\n",
       "         0.0000000e+00, 0.0000000e+00, 1.6615283e-01, 0.0000000e+00,\n",
       "         0.0000000e+00, 5.7068504e-02, 0.0000000e+00, 0.0000000e+00,\n",
       "         0.0000000e+00, 0.0000000e+00, 0.0000000e+00, 0.0000000e+00,\n",
       "         0.0000000e+00, 0.0000000e+00, 0.0000000e+00, 0.0000000e+00,\n",
       "         0.0000000e+00, 0.0000000e+00, 3.1407047e-02, 0.0000000e+00,\n",
       "         0.0000000e+00, 5.6436473e-01, 0.0000000e+00, 3.6860770e-01,\n",
       "         0.0000000e+00, 0.0000000e+00, 0.0000000e+00, 0.0000000e+00,\n",
       "         0.0000000e+00, 0.0000000e+00, 2.3499607e-01, 4.1339868e-01,\n",
       "         0.0000000e+00, 3.8764384e-01, 1.0828828e+00, 0.0000000e+00,\n",
       "         0.0000000e+00, 1.0043664e+00, 0.0000000e+00, 6.2483853e-01,\n",
       "         5.1346970e-01, 0.0000000e+00, 0.0000000e+00, 0.0000000e+00,\n",
       "         0.0000000e+00, 0.0000000e+00, 0.0000000e+00, 0.0000000e+00,\n",
       "         0.0000000e+00, 0.0000000e+00, 0.0000000e+00, 0.0000000e+00,\n",
       "         0.0000000e+00, 0.0000000e+00, 0.0000000e+00, 9.5502090e-01,\n",
       "         9.6943408e-01, 0.0000000e+00, 0.0000000e+00, 0.0000000e+00,\n",
       "         0.0000000e+00, 0.0000000e+00, 1.1026095e+00, 0.0000000e+00,\n",
       "         0.0000000e+00, 0.0000000e+00, 0.0000000e+00, 2.0237069e-01,\n",
       "         0.0000000e+00, 3.6830276e-01, 8.1520289e-01, 0.0000000e+00,\n",
       "         2.5551367e-01, 4.2725444e-02, 0.0000000e+00, 0.0000000e+00,\n",
       "         0.0000000e+00, 0.0000000e+00, 0.0000000e+00, 0.0000000e+00,\n",
       "         0.0000000e+00, 0.0000000e+00, 0.0000000e+00, 5.1566446e-01,\n",
       "         0.0000000e+00, 0.0000000e+00, 0.0000000e+00, 3.2765430e-01,\n",
       "         0.0000000e+00, 0.0000000e+00, 0.0000000e+00, 0.0000000e+00,\n",
       "         0.0000000e+00, 0.0000000e+00, 0.0000000e+00, 0.0000000e+00,\n",
       "         0.0000000e+00, 1.1129302e-01, 0.0000000e+00, 8.5990787e-02,\n",
       "         0.0000000e+00, 0.0000000e+00, 0.0000000e+00, 0.0000000e+00,\n",
       "         3.0806544e-01, 0.0000000e+00, 5.6404650e-01, 0.0000000e+00,\n",
       "         0.0000000e+00, 0.0000000e+00, 0.0000000e+00, 0.0000000e+00,\n",
       "         0.0000000e+00, 1.5272978e-01, 0.0000000e+00, 5.7892060e-01,\n",
       "         0.0000000e+00, 5.7478338e-01, 0.0000000e+00, 0.0000000e+00,\n",
       "         0.0000000e+00, 0.0000000e+00, 0.0000000e+00, 1.0957603e+00,\n",
       "         3.8690221e-01, 2.8461821e+00, 0.0000000e+00, 1.1005992e+00,\n",
       "         1.1142578e+00, 0.0000000e+00, 1.3263991e-01, 0.0000000e+00,\n",
       "         0.0000000e+00, 4.2132372e-01, 0.0000000e+00, 0.0000000e+00,\n",
       "         5.3504705e-01, 0.0000000e+00, 0.0000000e+00, 0.0000000e+00,\n",
       "         0.0000000e+00, 0.0000000e+00, 0.0000000e+00, 9.8331547e-01,\n",
       "         0.0000000e+00, 0.0000000e+00, 4.0264878e-01, 0.0000000e+00,\n",
       "         2.6641858e-01, 0.0000000e+00, 0.0000000e+00, 4.9050519e-01,\n",
       "         0.0000000e+00, 0.0000000e+00, 1.0159864e+00, 0.0000000e+00,\n",
       "         0.0000000e+00, 3.7334612e-01, 0.0000000e+00, 0.0000000e+00,\n",
       "         1.0675057e+00, 1.0362842e+00, 0.0000000e+00, 0.0000000e+00,\n",
       "         3.2125935e-01, 0.0000000e+00, 0.0000000e+00, 1.7031932e-01,\n",
       "         0.0000000e+00, 3.9504272e-01, 0.0000000e+00, 0.0000000e+00,\n",
       "         0.0000000e+00, 0.0000000e+00, 0.0000000e+00, 0.0000000e+00,\n",
       "         0.0000000e+00, 7.5900084e-01, 0.0000000e+00, 0.0000000e+00,\n",
       "         0.0000000e+00, 0.0000000e+00, 0.0000000e+00, 6.0617614e-01,\n",
       "         0.0000000e+00, 3.0555123e-01, 0.0000000e+00, 0.0000000e+00,\n",
       "         2.3472637e-01, 1.5095830e-02, 0.0000000e+00, 0.0000000e+00,\n",
       "         0.0000000e+00, 0.0000000e+00, 0.0000000e+00, 0.0000000e+00,\n",
       "         0.0000000e+00, 0.0000000e+00, 2.6700926e-01, 0.0000000e+00,\n",
       "         0.0000000e+00, 0.0000000e+00, 0.0000000e+00, 3.7765995e-01,\n",
       "         0.0000000e+00, 0.0000000e+00, 0.0000000e+00, 0.0000000e+00,\n",
       "         0.0000000e+00, 0.0000000e+00, 0.0000000e+00, 1.2092692e-01,\n",
       "         0.0000000e+00, 0.0000000e+00, 0.0000000e+00, 0.0000000e+00,\n",
       "         8.5018873e-03, 0.0000000e+00, 0.0000000e+00, 0.0000000e+00,\n",
       "         0.0000000e+00, 0.0000000e+00, 5.2676946e-01, 9.5337853e-02,\n",
       "         4.4558766e-01, 7.7122748e-03, 0.0000000e+00, 0.0000000e+00,\n",
       "         0.0000000e+00, 0.0000000e+00, 0.0000000e+00, 0.0000000e+00,\n",
       "         0.0000000e+00, 0.0000000e+00, 1.7714073e-01, 0.0000000e+00,\n",
       "         0.0000000e+00, 0.0000000e+00, 4.4370174e-02, 4.5577484e-01,\n",
       "         0.0000000e+00, 0.0000000e+00, 0.0000000e+00, 0.0000000e+00,\n",
       "         0.0000000e+00, 0.0000000e+00, 0.0000000e+00, 0.0000000e+00,\n",
       "         1.1295968e+00, 3.0680645e+00, 0.0000000e+00, 0.0000000e+00,\n",
       "         1.8708137e-01, 0.0000000e+00, 0.0000000e+00, 0.0000000e+00,\n",
       "         1.7894670e-02, 0.0000000e+00, 0.0000000e+00, 0.0000000e+00,\n",
       "         1.0681373e+00, 0.0000000e+00, 8.0845952e-03, 0.0000000e+00,\n",
       "         0.0000000e+00, 0.0000000e+00, 0.0000000e+00, 3.5485703e-01,\n",
       "         0.0000000e+00, 0.0000000e+00, 0.0000000e+00, 0.0000000e+00,\n",
       "         2.6160166e-01, 0.0000000e+00, 0.0000000e+00, 1.4108740e-01,\n",
       "         0.0000000e+00, 0.0000000e+00, 0.0000000e+00, 0.0000000e+00,\n",
       "         7.4800974e-01, 0.0000000e+00, 6.8118536e-01, 1.7577159e-01,\n",
       "         0.0000000e+00, 0.0000000e+00, 0.0000000e+00, 0.0000000e+00,\n",
       "         2.9955468e-01, 0.0000000e+00, 0.0000000e+00, 0.0000000e+00,\n",
       "         0.0000000e+00, 0.0000000e+00, 7.8844798e-01, 0.0000000e+00,\n",
       "         0.0000000e+00, 0.0000000e+00, 0.0000000e+00, 1.6296339e-01,\n",
       "         0.0000000e+00, 0.0000000e+00, 5.0496173e-01, 0.0000000e+00,\n",
       "         0.0000000e+00, 0.0000000e+00, 2.2599101e-01, 1.6571523e+00,\n",
       "         5.6528765e-01, 0.0000000e+00, 1.1075056e+00, 4.2886984e-01,\n",
       "         0.0000000e+00, 0.0000000e+00, 0.0000000e+00, 1.1619116e-01,\n",
       "         0.0000000e+00, 0.0000000e+00, 4.1164708e-01, 0.0000000e+00]]],\n",
       "      dtype=float32)"
      ]
     },
     "execution_count": 46,
     "metadata": {},
     "output_type": "execute_result"
    }
   ],
   "source": [
    "bottleneck_features_train[0]"
   ]
  },
  {
   "cell_type": "code",
   "execution_count": 39,
   "metadata": {},
   "outputs": [],
   "source": [
    "np.save(os.path.join(\"C:/Users/satok/.keras/datasets/\" , \"fashion_mnist_bottleneck_48_48.npy\"),bottleneck_features_train)"
   ]
  },
  {
   "cell_type": "code",
   "execution_count": 3,
   "metadata": {},
   "outputs": [],
   "source": [
    "#fashion_mnistのtrainデータを画像で保存(60000個でだいたい234MB)\n",
    "for i in range(len(train_images)):\n",
    "    reshape_numpy_image = train_images[i].reshape(28,28)\n",
    "    \n",
    "    pil_img = Image.fromarray(reshape_numpy_image)\n",
    "    pil_img = pil_img.convert(\"RGB\")\n",
    "    pil_img = pil_img.resize((48,48),Image.BICUBIC)\n",
    "    pil_img.save(os.path.join(\"C:/Users/satok/.keras/datasets/fashion-mnist-images\" , \"fashion_mnist_test\"+\"%05.f\"%(i)+\".jpg\"))"
   ]
  },
  {
   "cell_type": "code",
   "execution_count": 5,
   "metadata": {},
   "outputs": [],
   "source": [
    "#グレースケールの画像をカラー画像の形式に変換\n",
    "#transposeは行列の転置などを使うが、正直意味はよく理解していないので要確認\n",
    "\n",
    "img_width = 48\n",
    "img_height = 48\n",
    "def gray_to_rgb(X):\n",
    "    X_transpose = np.array(X.transpose(0, 2, 3, 1))\n",
    "    ret = np.empty((X.shape[0], img_width, img_height, 3), dtype=np.float32)\n",
    "    ret[:, :, :, 0] = X_transpose[:, :, :, 0]\n",
    "    ret[:, :, :, 1] = X_transpose[:, :, :, 0]\n",
    "    ret[:, :, :, 2] = X_transpose[:, :, :, 0]\n",
    "    return ret.transpose(0, 1, 2, 3)"
   ]
  },
  {
   "cell_type": "code",
   "execution_count": 62,
   "metadata": {},
   "outputs": [
    {
     "data": {
      "text/plain": [
       "(60000, 28, 28, 3)"
      ]
     },
     "execution_count": 62,
     "metadata": {},
     "output_type": "execute_result"
    }
   ],
   "source": [
    "#gray_to_rgb(train_images)\n",
    "reshape_numpy_image = train_images.reshape(60000,28,28,1)\n",
    "a = gray_to_rgb(reshape_numpy_image)\n",
    "a.shape"
   ]
  },
  {
   "cell_type": "code",
   "execution_count": null,
   "metadata": {},
   "outputs": [],
   "source": [
    "#img_listに読み込んだ画像ファイルを読み込んで、numpy配列にして結合\n",
    "for img in img_list:\n",
    "    temp_img = load_img(img,grayscale=False,target_size=(img_size))\n",
    "    temp_img_array = img_to_array(temp_img) /255\n",
    "    temp_img_array_list.append(temp_img_array)"
   ]
  },
  {
   "cell_type": "code",
   "execution_count": null,
   "metadata": {},
   "outputs": [],
   "source": [
    "#リサイズした画像をnumpy配列にして結合\n",
    "for img in range(len(train_images)):\n",
    "    #temp_img = load_img(img,grayscale=False,target_size=(img_size))\n",
    "    temp_img_array = img_to_array(temp_img) /255\n",
    "    temp_img_array_list.append(temp_img_array)"
   ]
  }
 ],
 "metadata": {
  "kernelspec": {
   "display_name": "Python 3",
   "language": "python",
   "name": "python3"
  },
  "language_info": {
   "codemirror_mode": {
    "name": "ipython",
    "version": 3
   },
   "file_extension": ".py",
   "mimetype": "text/x-python",
   "name": "python",
   "nbconvert_exporter": "python",
   "pygments_lexer": "ipython3",
   "version": "3.6.8"
  }
 },
 "nbformat": 4,
 "nbformat_minor": 2
}
