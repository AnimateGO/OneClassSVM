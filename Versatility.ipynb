{
 "cells": [
  {
   "cell_type": "code",
   "execution_count": 1,
   "metadata": {},
   "outputs": [
    {
     "name": "stderr",
     "output_type": "stream",
     "text": [
      "Using TensorFlow backend.\n"
     ]
    }
   ],
   "source": [
    "#import of library\n",
    "#必要なライブラリのインポート\n",
    "import os\n",
    "from keras.applications.vgg16 import VGG16, preprocess_input, decode_predictions\n",
    "from keras.preprocessing import image\n",
    "from keras.preprocessing.image import load_img,img_to_array\n",
    "import keras.preprocessing.image as Image\n",
    "from keras.models import Model\n",
    "from keras.datasets import fashion_mnist\n",
    "from PIL import Image\n",
    "import numpy\n",
    "import numpy as np\n",
    "import matplotlib.pyplot as plt\n",
    "from sklearn import svm\n",
    "import keras\n",
    "import glob\n",
    "from sklearn.linear_model import LogisticRegression\n",
    "from sklearn.model_selection import train_test_split\n",
    "from sklearn.model_selection import cross_val_score\n",
    "import math"
   ]
  },
  {
   "cell_type": "code",
   "execution_count": 58,
   "metadata": {},
   "outputs": [],
   "source": [
    "#list of variable\n",
    "#変数リスト\n",
    "#Division number\n",
    "#分割数\n",
    "cv = 10\n",
    "#research gamma\n",
    "#調べたいガンマ\n",
    "gamma_list = np.logspace(-3, -1, 5)\n",
    "#nu = 0.001のときgamma = 0.00035\n",
    "#gamma_list = [0.0013,0.00131,0.00132,0.00129,0.00128]\n",
    "#research nu\n",
    "#調べたいnu\n",
    "#nu_list = np.logspace(-3,-0.5,5)\n",
    "nu = 0.000185\n",
    "#nu = 0.1\n",
    "\n",
    "#Number of test data\n",
    "#実験データの数\n",
    "data_range = 6000\n",
    "\n",
    "#その他必要な変数\n",
    "Tshirt_train = []\n",
    "shirt_train = []\n",
    "\n",
    "\n",
    "test = []\n",
    "\n",
    "train_label = []\n",
    "test_label = []\n",
    "\n",
    "divide = data_range//cv\n",
    "\n",
    "tmp_train = []\n",
    "tmp_test = []\n",
    "\n",
    "current_total_acc = 0\n",
    "\n",
    "#fashion_mnistを読み込み\n",
    "fashion_mnist = keras.datasets.fashion_mnist\n",
    "(train_images, train_labels), (test_images,test_labels) = fashion_mnist.load_data()\n",
    "\n",
    "#保存してあるデータをロード\n",
    "#0 T-シャツ/トップ (T-shirt/top)\n",
    "#1 ズボン (Trouser)\n",
    "#2 プルオーバー (Pullover)\n",
    "#3 ドレス (Dress)\n",
    "#4 コート (Coat)\n",
    "#5 サンダル (Sandal)\n",
    "#6 シャツ (Shirt)\n",
    "#7 スニーカー (Sneaker)\n",
    "#8 バッグ (Bag)\n",
    "#9 アンクルブーツ (Ankle boot)\n",
    "train = np.load(\"C:/Users/satok/.keras/datasets/fashion_mnist_pertype_feature/fashion_mnist_48_48_7.npy\")\n",
    "test = np.load(\"C:/Users/satok/.keras/datasets/fashion_mnist_pertype_feature/fashion_mnist_48_48_9.npy\")\n",
    "\n",
    "train = np.reshape(train, (len(train),512))\n",
    "test = np.reshape(test, (len(test),512))\n",
    "\n",
    "\n",
    "#train = train.astype('float32') / 255.0\n",
    "#train = train.astype('float32') / 255.0\n",
    "\n",
    "#VGG16のモデル設定\n",
    "#base_model = VGG16(include_top=False, \n",
    "#                   weights='imagenet',\n",
    "#                  input_shape = (48,48,3))"
   ]
  },
  {
   "cell_type": "code",
   "execution_count": 5,
   "metadata": {},
   "outputs": [
    {
     "data": {
      "text/plain": [
       "array([0.001     , 0.00316228, 0.01      , 0.03162278, 0.1       ])"
      ]
     },
     "execution_count": 5,
     "metadata": {},
     "output_type": "execute_result"
    }
   ],
   "source": [
    "gamma_list"
   ]
  },
  {
   "cell_type": "code",
   "execution_count": 37,
   "metadata": {},
   "outputs": [
    {
     "ename": "NameError",
     "evalue": "name 'x_train' is not defined",
     "output_type": "error",
     "traceback": [
      "\u001b[1;31m---------------------------------------------------------------------------\u001b[0m",
      "\u001b[1;31mNameError\u001b[0m                                 Traceback (most recent call last)",
      "\u001b[1;32m<ipython-input-37-ed079df8c5a4>\u001b[0m in \u001b[0;36m<module>\u001b[1;34m\u001b[0m\n\u001b[0;32m      4\u001b[0m \u001b[1;33m\u001b[0m\u001b[0m\n\u001b[0;32m      5\u001b[0m \u001b[1;32mfor\u001b[0m \u001b[0mi\u001b[0m \u001b[1;32min\u001b[0m \u001b[0mrange\u001b[0m\u001b[1;33m(\u001b[0m\u001b[0mdata_range\u001b[0m\u001b[1;33m)\u001b[0m\u001b[1;33m:\u001b[0m\u001b[1;33m\u001b[0m\u001b[1;33m\u001b[0m\u001b[0m\n\u001b[1;32m----> 6\u001b[1;33m     \u001b[0mx_train\u001b[0m\u001b[1;33m.\u001b[0m\u001b[0mappend\u001b[0m\u001b[1;33m(\u001b[0m\u001b[0mnormal\u001b[0m\u001b[1;33m(\u001b[0m\u001b[1;36m0\u001b[0m\u001b[1;33m,\u001b[0m\u001b[1;36m0.1\u001b[0m\u001b[1;33m)\u001b[0m\u001b[1;33m)\u001b[0m\u001b[1;33m\u001b[0m\u001b[1;33m\u001b[0m\u001b[0m\n\u001b[0m\u001b[0;32m      7\u001b[0m     \u001b[0my_train\u001b[0m\u001b[1;33m.\u001b[0m\u001b[0mappend\u001b[0m\u001b[1;33m(\u001b[0m\u001b[0mnormal\u001b[0m\u001b[1;33m(\u001b[0m\u001b[1;36m0\u001b[0m\u001b[1;33m,\u001b[0m\u001b[1;36m0.1\u001b[0m\u001b[1;33m)\u001b[0m\u001b[1;33m)\u001b[0m\u001b[1;33m\u001b[0m\u001b[1;33m\u001b[0m\u001b[0m\n\u001b[0;32m      8\u001b[0m \u001b[0mxy_train\u001b[0m \u001b[1;33m=\u001b[0m \u001b[0mnp\u001b[0m\u001b[1;33m.\u001b[0m\u001b[0mc_\u001b[0m\u001b[1;33m[\u001b[0m\u001b[0mx_train\u001b[0m\u001b[1;33m,\u001b[0m \u001b[0my_train\u001b[0m\u001b[1;33m]\u001b[0m\u001b[1;33m\u001b[0m\u001b[1;33m\u001b[0m\u001b[0m\n",
      "\u001b[1;31mNameError\u001b[0m: name 'x_train' is not defined"
     ]
    }
   ],
   "source": [
    "#Creating test data\n",
    "#学習、テストデータの作成例\n",
    "#正規分布\n",
    "\n",
    "for i in range(data_range):\n",
    "    x_train.append(normal(0,0.1))\n",
    "    y_train.append(normal(0,0.1))\n",
    "xy_train = np.c_[x_train, y_train]\n",
    "\n",
    "for i in range(data_range):\n",
    "    x_test.append(normal(0,0.1))\n",
    "    y_test.append(normal(0,0.1))\n",
    "xy_test = np.c_[x_test, y_test]"
   ]
  },
  {
   "cell_type": "code",
   "execution_count": null,
   "metadata": {},
   "outputs": [],
   "source": [
    "#Creating data_label\n",
    "#データラベルの作成例\n",
    "#svmは1か-1かでクラス分けするため\n",
    "\n",
    "for i in range(data_range):\n",
    "    if (math.sqrt(xy_train[i,0]**2 + xy_train[i,1]**2)) > 0.3:\n",
    "        train_label.append(-1)\n",
    "    else:\n",
    "        train_label.append(1)\n",
    "        \n",
    "for j in range(data_range):\n",
    "    if(math.sqrt(xy_test[j,0]**2 + xy_test[j,1]**2)) > 0.3:\n",
    "        test_label.append(-1)\n",
    "    else:\n",
    "        test_label.append(1)\n",
    "\n",
    "        "
   ]
  },
  {
   "cell_type": "code",
   "execution_count": 59,
   "metadata": {},
   "outputs": [],
   "source": [
    "#データラベルの作成\n",
    "train_label = np.array([1] * len(train))\n",
    "test_label = np.array([-1] * len(test))\n",
    "\n",
    "tmp_train_label = train_label[0:divide * (cv-1)] \n",
    "tmp_test_label = train_label[0:divide]"
   ]
  },
  {
   "cell_type": "code",
   "execution_count": 60,
   "metadata": {},
   "outputs": [
    {
     "name": "stdout",
     "output_type": "stream",
     "text": [
      "gamma : 0.001\n",
      "average_acc : 0.9981666666666665\n",
      "\n",
      "gamma : 0.0031622776601683794\n",
      "average_acc : 0.9979999999999999\n",
      "\n",
      "gamma : 0.01\n",
      "average_acc : 0.9976666666666667\n",
      "\n",
      "gamma : 0.03162277660168379\n",
      "average_acc : 0.9941666666666666\n",
      "\n",
      "gamma : 0.1\n",
      "average_acc : 0.9673333333333334\n",
      "\n",
      "best_gamma : 0.001\n",
      "best_average_acc : 0.9981666666666665\n"
     ]
    }
   ],
   "source": [
    "#grid_search and cross_validation\n",
    "current_total_acc = 0\n",
    "best_average_acc = 0\n",
    "\n",
    "for gamma in gamma_list:\n",
    "#for nu in nu_list:\n",
    "        \n",
    "    for i in range(cv):\n",
    "        tmp_test.extend(train[i*divide: ((i+1) * divide)])\n",
    "        tmp_train.extend(train[0:i*divide])\n",
    "        tmp_train.extend(train[((i+1) * divide) : len(train)])\n",
    "        \n",
    "        clf = svm.OneClassSVM(nu = nu, kernel=\"rbf\", gamma=gamma)\n",
    "        clf.fit(tmp_train)\n",
    "        pred = clf.predict(tmp_test)\n",
    "        current_total_acc = current_total_acc + (len(pred[pred == tmp_test_label])/len(pred))\n",
    "        \n",
    "        tmp_test.clear()\n",
    "        tmp_train.clear()\n",
    "        \n",
    "    current_average_acc = current_total_acc / cv\n",
    "    \n",
    "    print(\"gamma : \" + str(gamma))\n",
    "    print(\"average_acc : \" + str(current_average_acc) + \"\\n\")\n",
    "    \n",
    "    if(best_average_acc < current_average_acc):\n",
    "        best_average_acc = current_average_acc\n",
    "        best_gamma = gamma\n",
    "    \n",
    "    current_total_acc = 0\n",
    "    current_average_acc = 0\n",
    "\n",
    "print(\"best_gamma : \" + str(best_gamma))\n",
    "print(\"best_average_acc : \" + str(best_average_acc))"
   ]
  },
  {
   "cell_type": "code",
   "execution_count": null,
   "metadata": {},
   "outputs": [],
   "source": [
    "#配列の頭から「１」を100個，「７」を20個取り出し予想\n",
    "test = np.vstack((x_test_7[0:100], x_test_1[0:20]))\n",
    "test1 = x_test_7[0:100]\n",
    "pred = clf.predict(test)\n",
    "\n",
    "clf = svm.OneClassSVM(nu = 0.2, kernel=\"rbf\", gamma=0.001)\n",
    "clf.fit(x_train_1)"
   ]
  },
  {
   "cell_type": "code",
   "execution_count": 72,
   "metadata": {},
   "outputs": [],
   "source": [
    "svm_test_0 = np.load(\"C:/Users/satok/.keras/datasets/fashion_mnist_pertype_feature_test/fashion_mnist_48_48_test_7.npy\")\n",
    "snm_test_6 = np.load(\"C:/Users/satok/.keras/datasets/fashion_mnist_pertype_feature_test/fashion_mnist_48_48_test_9.npy\")"
   ]
  },
  {
   "cell_type": "code",
   "execution_count": 70,
   "metadata": {},
   "outputs": [
    {
     "data": {
      "text/plain": [
       "(1100, 512)"
      ]
     },
     "execution_count": 70,
     "metadata": {},
     "output_type": "execute_result"
    }
   ],
   "source": [
    "#svm_train = np.vstack(svm_test_0[0:600],test[0:600])\n",
    "svm_test_0 = np.reshape(svm_test_0, (len(svm_test_0),512))\n",
    "svm_test_6 = np.reshape(svm_test_0, (len(svm_test_6),512))\n",
    "svm_test = np.vstack((svm_test_0[0:1000],svm_test_6[0:100]))\n",
    "svm_test.shape"
   ]
  },
  {
   "cell_type": "code",
   "execution_count": 33,
   "metadata": {},
   "outputs": [
    {
     "data": {
      "text/plain": [
       "(1000, 512)"
      ]
     },
     "execution_count": 33,
     "metadata": {},
     "output_type": "execute_result"
    }
   ],
   "source": [
    "svm_test_0.shape"
   ]
  },
  {
   "cell_type": "code",
   "execution_count": 71,
   "metadata": {},
   "outputs": [
    {
     "data": {
      "text/plain": [
       "OneClassSVM(cache_size=200, coef0=0.0, degree=3, gamma=0.0013, kernel='rbf',\n",
       "      max_iter=-1, nu=0.000185, random_state=None, shrinking=True,\n",
       "      tol=0.001, verbose=False)"
      ]
     },
     "execution_count": 71,
     "metadata": {},
     "output_type": "execute_result"
    }
   ],
   "source": [
    "svm_model = svm.OneClassSVM(nu = 0.000185, kernel=\"rbf\",gamma=0.0013)\n",
    "#svm_model = svm.OneClassSVM(nu = 0.1, kernel=\"rbf\",gamma=0.01)\n",
    "svm_model.fit(train)"
   ]
  },
  {
   "cell_type": "code",
   "execution_count": 78,
   "metadata": {},
   "outputs": [
    {
     "name": "stdout",
     "output_type": "stream",
     "text": [
      "accuracy : 0.9090909090909091\n",
      "[]\n"
     ]
    }
   ],
   "source": [
    "pred = svm_model.predict(svm_test)\n",
    "answer = np.array([1] * 1000 + [-1] * 100)\n",
    "acc =  len(pred[pred == answer])/1100.0\n",
    "print(\"accuracy : \" + str(acc))\n",
    "print([i for i,j in enumerate(pred) if j == -1])"
   ]
  },
  {
   "cell_type": "code",
   "execution_count": 79,
   "metadata": {},
   "outputs": [
    {
     "data": {
      "image/png": "[encoded data removed]",
      "text/plain": [
       "<Figure size 432x288 with 1 Axes>"
      ]
     },
     "metadata": {
      "needs_background": "light"
     },
     "output_type": "display_data"
    }
   ],
   "source": [
    "#予想された値をグラフ化し表示・保存\n",
    "x = np.arange(0, 1100, 1)\n",
    "plt.plot(x, pred)\n",
    "#plt.savefig('SVMmnist.png')\n",
    "plt.show()"
   ]
  },
  {
   "cell_type": "code",
   "execution_count": 74,
   "metadata": {},
   "outputs": [
    {
     "data": {
      "image/png": "[encoded data removed]",
      "text/plain": [
       "<Figure size 432x288 with 1 Axes>"
      ]
     },
     "metadata": {
      "needs_background": "light"
     },
     "output_type": "display_data"
    }
   ],
   "source": [
    "plt.imshow(svm_test_6[108].reshape(32,16),cmap='Greys')\n",
    "plt.show()"
   ]
  },
  {
   "cell_type": "code",
   "execution_count": null,
   "metadata": {},
   "outputs": [],
   "source": []
  }
 ],
 "metadata": {
  "kernelspec": {
   "display_name": "Python 3",
   "language": "python",
   "name": "python3"
  },
  "language_info": {
   "codemirror_mode": {
    "name": "ipython",
    "version": 3
   },
   "file_extension": ".py",
   "mimetype": "text/x-python",
   "name": "python",
   "nbconvert_exporter": "python",
   "pygments_lexer": "ipython3",
   "version": "3.6.8"
  }
 },
 "nbformat": 4,
 "nbformat_minor": 2
}
