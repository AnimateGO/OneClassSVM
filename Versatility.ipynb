{
 "cells": [
  {
   "cell_type": "code",
   "execution_count": 1,
   "metadata": {},
   "outputs": [
    {
     "name": "stderr",
     "output_type": "stream",
     "text": [
      "Using TensorFlow backend.\n"
     ]
    }
   ],
   "source": [
    "#import of library\n",
    "#必要なライブラリのインポート\n",
    "import os\n",
    "from keras.applications.vgg16 import VGG16, preprocess_input, decode_predictions\n",
    "from keras.preprocessing import image\n",
    "from keras.preprocessing.image import load_img,img_to_array\n",
    "import keras.preprocessing.image as Image\n",
    "from keras.models import Model\n",
    "from keras.datasets import fashion_mnist\n",
    "from PIL import Image\n",
    "import numpy\n",
    "import numpy as np\n",
    "import matplotlib.pyplot as plt\n",
    "from sklearn import svm\n",
    "import keras\n",
    "import glob\n",
    "from sklearn.linear_model import LogisticRegression\n",
    "from sklearn.model_selection import train_test_split\n",
    "from sklearn.model_selection import cross_val_score\n",
    "import math\n",
    "from mpl_toolkits.mplot3d import Axes3D\n",
    "import sys\n",
    "import cv2"
   ]
  },
  {
   "cell_type": "code",
   "execution_count": 96,
   "metadata": {},
   "outputs": [],
   "source": [
    "#list of variable\n",
    "#変数リスト\n",
    "#Division number\n",
    "#分割数\n",
    "cv = 10\n",
    "#research gamma\n",
    "#調べたいガンマ\n",
    "#gamma_list = np.logspace(-3, -1, 5)\n",
    "#gamma_list = [0.00001,0.0001,0.001,0.01,0.1]\n",
    "#gamma_list = [0.04,0.02,0.01,0.005,0.0025]\n",
    "#gamma_list = [0.012,0.011,0.01,0.009,0.008]\n",
    "#gamma_list = [0.01075,0.0105,0.01,0.00975,0.0095]\n",
    "gamma_list = [0.0102,0.0101,0.01,0.0099,0.0098]\n",
    "\n",
    "#gamma_list = [0.00004,0.00002,0.00001,0.000005,0.0000025]\n",
    "\n",
    "#gamma_list = [0.0000026,0.0000025,0.0000024]\n",
    "\n",
    "#nu = 0.001のときgamma = 0.00035\n",
    "#research nu\n",
    "#gamma_list = [0.0013,0.00131,0.00132,0.00129,0.00128]\n",
    "#調べたいnu\n",
    "#nu_list = np.logspace(-3,-0.5,5)\n",
    "#nu = 0.000185\n",
    "nu = 0.1\n",
    "\n",
    "#Number of test data\n",
    "#実験データの数\n",
    "data_range = 6000\n",
    "\n",
    "#その他必要な変数\n",
    "Tshirt_train = []\n",
    "shirt_train = []\n",
    "\n",
    "test = []\n",
    "\n",
    "train_label = []\n",
    "test_label = []\n",
    "\n",
    "divide = data_range//cv\n",
    "\n",
    "tmp_train = []\n",
    "tmp_test = []\n",
    "\n",
    "current_total_f_value = 0\n",
    "\n",
    "#fashion_mnistを読み込み\n",
    "fashion_mnist = keras.datasets.fashion_mnist\n",
    "(train_images, train_labels), (test_images,test_labels) = fashion_mnist.load_data()"
   ]
  },
  {
   "cell_type": "code",
   "execution_count": 53,
   "metadata": {},
   "outputs": [],
   "source": [
    "#fashion_mnistをリサイズして返す関数\n",
    "test_list = []\n",
    "img_array_list = []\n",
    "#width = height = 48\n",
    "#fashion_mnistをリサイズして返す関数#\n",
    "def resize_array_images(train_images,width,height,img_array_list):\n",
    "    for i in range(len(train_images)):\n",
    "        pil_img = Image.fromarray(train_images[i])\n",
    "        #pil_img = pil_img.convert(\"RGB\")\n",
    "        pil_img = pil_img .resize((width,height), Image.BICUBIC)\n",
    "        \n",
    "        img_array = numpy.asarray(pil_img)\n",
    "        img_array_list.append(img_array)\n",
    "    img_array_list = np.array(img_array_list)\n",
    "    return img_array_list"
   ]
  },
  {
   "cell_type": "code",
   "execution_count": 27,
   "metadata": {},
   "outputs": [
    {
     "data": {
      "text/plain": [
       "(6000, 48, 48)"
      ]
     },
     "execution_count": 27,
     "metadata": {},
     "output_type": "execute_result"
    }
   ],
   "source": [
    "test_list = resize_array_images(train_images,48,48,img_array_list)\n",
    "\n",
    "fashion_mnist_type = train_images[np.where(train_labels == 0)[0]]\n",
    "train = test_list[np.where(train_labels == 0)[0]]\n",
    "train.shape"
   ]
  },
  {
   "cell_type": "code",
   "execution_count": 85,
   "metadata": {},
   "outputs": [
    {
     "data": {
      "text/plain": [
       "\"\\ntest_list = resize_array_images(train_images,48,48,img_array_list)\\ntrain = test_list[np.where(train_labels == 0)[0]]\\ntest = test_list[np.where(train_labels == 6)[0]]\\nnoise = test_list[np.where(train_labels == 2)[0]]\\n\\ntrain = np.reshape(train, (len(train),2304))\\ntest = np.reshape(test, (len(test),2304))\\nnoise = np.reshape(test, (len(noise),2304))\\n\\ntrain = train.astype('float32') / 255.0\\ntest = test.astype('float32') / 255.0\\nnoise = noise.astype('float32') / 255.0\\n\""
      ]
     },
     "execution_count": 85,
     "metadata": {},
     "output_type": "execute_result"
    }
   ],
   "source": [
    "#保存してあるデータをロード\n",
    "#0 T-シャツ/トップ (T-shirt/top)\n",
    "#1 ズボン (Trouser)\n",
    "#2 プルオーバー (Pullover)\n",
    "#3 ドレス (Dress)\n",
    "#4 コート (Coat)\n",
    "#5 サンダル (Sandal)\n",
    "#6 シャツ (Shirt)\n",
    "#7 スニーカー (Sneaker)\n",
    "#8 バッグ (Bag)\n",
    "#9 アンクルブーツ (Ankle boot)\n",
    "\n",
    "#VGG16特徴抽出後\n",
    "train = np.load(\"C:/Users/satok/.keras/datasets/fashion_mnist_pertype_feature/fashion_mnist_48_48_0.npy\")\n",
    "test = np.load(\"C:/Users/satok/.keras/datasets/fashion_mnist_pertype_feature/fashion_mnist_48_48_6.npy\")\n",
    "noise = np.load(\"C:/Users/satok/.keras/datasets/fashion_mnist_pertype_feature/fashion_mnist_48_48_1.npy\")\n",
    "\n",
    "#特徴抽出前\n",
    "#train = np.load(\"C:/Users/satok/.keras/datasets/fashion_mnist_pertype/fashion_mnist_0.npy\")\n",
    "#test = np.load(\"C:/Users/satok/.keras/datasets/fashion_mnist_pertype/fashion_mnist_6.npy\")\n",
    "#noise = np.load(\"C:/Users/satok/.keras/datasets/fashion_mnist_pertype/fashion_mnist_1.npy\")\n",
    "\n",
    "\n",
    "#特徴抽出後\n",
    "train = np.reshape(train, (len(train),512))\n",
    "test = np.reshape(test, (len(test),512))\n",
    "noise = np.reshape(test, (len(noise),512))\n",
    "\n",
    "\n",
    "#特徴抽出前\n",
    "\"\"\"\n",
    "test_list = resize_array_images(train_images,48,48,img_array_list)\n",
    "train = test_list[np.where(train_labels == 0)[0]]\n",
    "test = test_list[np.where(train_labels == 6)[0]]\n",
    "noise = test_list[np.where(train_labels == 2)[0]]\n",
    "\n",
    "train = np.reshape(train, (len(train),2304))\n",
    "test = np.reshape(test, (len(test),2304))\n",
    "noise = np.reshape(test, (len(noise),2304))\n",
    "\n",
    "train = train.astype('float32') / 255.0\n",
    "test = test.astype('float32') / 255.0\n",
    "noise = noise.astype('float32') / 255.0\n",
    "\"\"\"\n",
    "\n",
    "#VGG16のモデル設定\n",
    "#base_model = VGG16(include_top=False, \n",
    "#                   weights='imagenet',\n",
    "#                  input_shape = (48,48,3))"
   ]
  },
  {
   "cell_type": "code",
   "execution_count": 86,
   "metadata": {},
   "outputs": [],
   "source": [
    "#テストデータに加えるノイズの作成\n",
    "train_noise = noise[0:divide]\n",
    "test_noise = test[0:divide]"
   ]
  },
  {
   "cell_type": "code",
   "execution_count": 37,
   "metadata": {},
   "outputs": [
    {
     "ename": "NameError",
     "evalue": "name 'x_train' is not defined",
     "output_type": "error",
     "traceback": [
      "\u001b[1;31m---------------------------------------------------------------------------\u001b[0m",
      "\u001b[1;31mNameError\u001b[0m                                 Traceback (most recent call last)",
      "\u001b[1;32m<ipython-input-37-ed079df8c5a4>\u001b[0m in \u001b[0;36m<module>\u001b[1;34m\u001b[0m\n\u001b[0;32m      4\u001b[0m \u001b[1;33m\u001b[0m\u001b[0m\n\u001b[0;32m      5\u001b[0m \u001b[1;32mfor\u001b[0m \u001b[0mi\u001b[0m \u001b[1;32min\u001b[0m \u001b[0mrange\u001b[0m\u001b[1;33m(\u001b[0m\u001b[0mdata_range\u001b[0m\u001b[1;33m)\u001b[0m\u001b[1;33m:\u001b[0m\u001b[1;33m\u001b[0m\u001b[1;33m\u001b[0m\u001b[0m\n\u001b[1;32m----> 6\u001b[1;33m     \u001b[0mx_train\u001b[0m\u001b[1;33m.\u001b[0m\u001b[0mappend\u001b[0m\u001b[1;33m(\u001b[0m\u001b[0mnormal\u001b[0m\u001b[1;33m(\u001b[0m\u001b[1;36m0\u001b[0m\u001b[1;33m,\u001b[0m\u001b[1;36m0.1\u001b[0m\u001b[1;33m)\u001b[0m\u001b[1;33m)\u001b[0m\u001b[1;33m\u001b[0m\u001b[1;33m\u001b[0m\u001b[0m\n\u001b[0m\u001b[0;32m      7\u001b[0m     \u001b[0my_train\u001b[0m\u001b[1;33m.\u001b[0m\u001b[0mappend\u001b[0m\u001b[1;33m(\u001b[0m\u001b[0mnormal\u001b[0m\u001b[1;33m(\u001b[0m\u001b[1;36m0\u001b[0m\u001b[1;33m,\u001b[0m\u001b[1;36m0.1\u001b[0m\u001b[1;33m)\u001b[0m\u001b[1;33m)\u001b[0m\u001b[1;33m\u001b[0m\u001b[1;33m\u001b[0m\u001b[0m\n\u001b[0;32m      8\u001b[0m \u001b[0mxy_train\u001b[0m \u001b[1;33m=\u001b[0m \u001b[0mnp\u001b[0m\u001b[1;33m.\u001b[0m\u001b[0mc_\u001b[0m\u001b[1;33m[\u001b[0m\u001b[0mx_train\u001b[0m\u001b[1;33m,\u001b[0m \u001b[0my_train\u001b[0m\u001b[1;33m]\u001b[0m\u001b[1;33m\u001b[0m\u001b[1;33m\u001b[0m\u001b[0m\n",
      "\u001b[1;31mNameError\u001b[0m: name 'x_train' is not defined"
     ]
    }
   ],
   "source": [
    "#Creating test data\n",
    "#学習、テストデータの作成例\n",
    "#正規分布\n",
    "\n",
    "for i in range(data_range):\n",
    "    x_train.append(normal(0,0.1))\n",
    "    y_train.append(normal(0,0.1))\n",
    "xy_train = np.c_[x_train, y_train]\n",
    "\n",
    "for i in range(data_range):\n",
    "    x_test.append(normal(0,0.1))\n",
    "    y_test.append(normal(0,0.1))\n",
    "xy_test = np.c_[x_test, y_test]"
   ]
  },
  {
   "cell_type": "code",
   "execution_count": null,
   "metadata": {},
   "outputs": [],
   "source": [
    "#Creating data_label\n",
    "#データラベルの作成例\n",
    "#これは正規分布\n",
    "#svmは1か-1かでクラス分けするため\n",
    "\n",
    "for i in range(data_range):\n",
    "    if (math.sqrt(xy_train[i,0]**2 + xy_train[i,1]**2)) > 0.3:\n",
    "        train_label.append(-1)\n",
    "    else:\n",
    "        train_label.append(1)\n",
    "        \n",
    "for j in range(data_range):\n",
    "    if(math.sqrt(xy_test[j,0]**2 + xy_test[j,1]**2)) > 0.3:\n",
    "        test_label.append(-1)\n",
    "    else:\n",
    "        test_label.append(1)\n",
    "\n",
    "        "
   ]
  },
  {
   "cell_type": "code",
   "execution_count": 30,
   "metadata": {},
   "outputs": [],
   "source": [
    "#データラベルの作成\n",
    "train_label = np.array([1] * len(train))\n",
    "test_label = np.array([-1] * len(test))\n",
    "\n",
    "tmp_train_label = train_label[0:divide * (cv-1)] \n",
    "tmp_test_label = train_label[0:divide]"
   ]
  },
  {
   "cell_type": "code",
   "execution_count": 97,
   "metadata": {},
   "outputs": [
    {
     "name": "stdout",
     "output_type": "stream",
     "text": [
      "gamma : 0.0102\n",
      "average_f_value : 0.8631016714534434\n",
      "\n",
      "gamma : 0.0101\n",
      "average_f_value : 0.8631239479856383\n",
      "\n",
      "gamma : 0.01\n",
      "average_f_value : 0.8632144593337833\n",
      "\n",
      "gamma : 0.0099\n",
      "average_f_value : 0.863009100351188\n",
      "\n",
      "gamma : 0.0098\n",
      "average_f_value : 0.863281549151216\n",
      "\n",
      "best_gamma : 0.0098\n",
      "best_average_value : 0.863281549151216\n"
     ]
    }
   ],
   "source": [
    "#grid_search and cross_validation\n",
    "current_total_f_value = 0\n",
    "best_average_f_value = 0\n",
    "#グラフ描画用\n",
    "f_value_list = []\n",
    "\n",
    "for gamma in gamma_list:\n",
    "#for nu in nu_list:\n",
    "        \n",
    "    for i in range(cv):\n",
    "        tmp_test.extend(train[i*divide: ((i+1) * divide)])\n",
    "        tmp_train.extend(train[0:i*divide])\n",
    "        tmp_train.extend(train[((i+1) * divide) : len(train)])\n",
    "        \n",
    "        tmp_train.extend(train_noise)\n",
    "        tmp_test.extend(test_noise)\n",
    "        \n",
    "        clf = svm.OneClassSVM(nu = nu, kernel=\"rbf\", gamma=gamma)\n",
    "        clf.fit(tmp_train)\n",
    "        \n",
    "        pred = clf.predict(tmp_test)\n",
    "        \n",
    "        real_true_pred = pred[0:divide]\n",
    "        real_false_pred = pred[divide : divide * 2]\n",
    "        \n",
    "        tp = len(real_true_pred[real_true_pred == 1]) / len(real_true_pred)\n",
    "        fn = len(real_true_pred[real_true_pred == -1]) / len(real_true_pred)\n",
    "        \n",
    "        fp = len(real_false_pred[real_false_pred == -1]) / len(real_false_pred)\n",
    "        tn = len(real_false_pred[real_false_pred == 1]) / len(real_false_pred)\n",
    "        \n",
    "        precision = tp/(tp + fp)\n",
    "        recall = tp/(tp + fn)\n",
    "        f_value = (2 * precision * recall) / (precision + recall)\n",
    "        \n",
    "        current_total_f_value = current_total_f_value + f_value\n",
    "        \n",
    "        tmp_test.clear()\n",
    "        tmp_train.clear()\n",
    "        \n",
    "    current_average_f_value = current_total_f_value / cv\n",
    "    \n",
    "    print(\"gamma : \" + str(gamma))\n",
    "    print(\"average_f_value : \" + str(current_average_f_value) + \"\\n\")\n",
    "    f_value_list.append(current_average_f_value)\n",
    "    \n",
    "    if(best_average_f_value < current_average_f_value):\n",
    "        best_average_f_value = current_average_f_value\n",
    "        best_gamma = gamma\n",
    "    \n",
    "    current_total_f_value = 0\n",
    "    current_average_f_value = 0\n",
    "\n",
    "print(\"best_gamma : \" + str(best_gamma))\n",
    "print(\"best_average_value : \" + str(best_average_f_value))"
   ]
  },
  {
   "cell_type": "code",
   "execution_count": 16,
   "metadata": {},
   "outputs": [
    {
     "data": {
      "text/plain": [
       "<function matplotlib.pyplot.show(*args, **kw)>"
      ]
     },
     "execution_count": 16,
     "metadata": {},
     "output_type": "execute_result"
    },
    {
     "data": {
      "image/png": "[encoded data removed]",
      "text/plain": [
       "<Figure size 432x288 with 1 Axes>"
      ]
     },
     "metadata": {
      "needs_background": "light"
     },
     "output_type": "display_data"
    }
   ],
   "source": [
    "plt.plot(gamma_list, f_value_list, label = \"gamma\")\n",
    "plt.legend()\n",
    "plt.xlabel(\"gamma\")\n",
    "#対数軸にしたい場合\n",
    "plt.xscale(\"log\")\n",
    "#軸の歯にを指定したい場合\n",
    "#plt.xlim([0.053,0.057])\n",
    "#plt.ylim([0.875,0.88])\n",
    "plt.ylabel(\"f_value\")\n",
    "plt.title('Graph of searching gamma with nu=0.1')\n",
    "plt.show"
   ]
  },
  {
   "cell_type": "code",
   "execution_count": null,
   "metadata": {},
   "outputs": [],
   "source": [
    "#配列の頭から「１」を100個，「７」を20個取り出し予想\n",
    "test = np.vstack((x_test_7[0:100], x_test_1[0:20]))\n",
    "test1 = x_test_7[0:100]\n",
    "pred = clf.predict(test)\n",
    "\n",
    "clf = svm.OneClassSVM(nu = 0.2, kernel=\"rbf\", gamma=0.001)\n",
    "clf.fit(x_train_1)"
   ]
  },
  {
   "cell_type": "code",
   "execution_count": 98,
   "metadata": {},
   "outputs": [],
   "source": [
    "#特徴抽出後\n",
    "test_train = np.load(\"C:/Users/satok/.keras/datasets/fashion_mnist_pertype_feature_test/fashion_mnist_48_48_test_0.npy\")\n",
    "test_test = np.load(\"C:/Users/satok/.keras/datasets/fashion_mnist_pertype_feature_test/fashion_mnist_48_48_test_6.npy\")\n",
    "\n",
    "test_train = np.reshape(test_train, (len(test_train),512))\n",
    "test_test = np.reshape(test_test, (len(test_test),512))"
   ]
  },
  {
   "cell_type": "code",
   "execution_count": 78,
   "metadata": {},
   "outputs": [],
   "source": [
    "#特徴抽出前\n",
    "img_array_list = []\n",
    "test_list = resize_array_images(test_images,48,48,img_array_list)\n",
    "test_train = test_list[np.where(test_labels == 0)[0]]\n",
    "test_test = test_list[np.where(test_labels == 6)[0]]\n",
    "#test_noise = test_list[np.where(test_labels == 2)[0]]\n",
    "\n",
    "test_train = np.reshape(test_train, (len(test_train),2304))\n",
    "test_test = np.reshape(test_test, (len(test_test),2304))\n",
    "#test_noise = np.reshape(test, (len(noise),2304))\n",
    "\n",
    "test_train = test_train.astype('float32') / 255.0\n",
    "test_test = test_test.astype('float32') / 255.0\n",
    "#test_noise = noise.astype('float32') / 255.0"
   ]
  },
  {
   "cell_type": "code",
   "execution_count": 70,
   "metadata": {},
   "outputs": [
    {
     "data": {
      "text/plain": [
       "(1100, 512)"
      ]
     },
     "execution_count": 70,
     "metadata": {},
     "output_type": "execute_result"
    }
   ],
   "source": [
    "#svm_train = np.vstack(svm_test_0[0:600],test[0:600])\n",
    "#svm_test_0 = np.reshape(svm_test_0, (len(svm_test_0),512))\n",
    "#svm_test_6 = np.reshape(svm_test_0, (len(svm_test_6),512))\n",
    "#svm_test = np.vstack((svm_test_0[0:1000],svm_test_6[0:100]))\n",
    "#svm_test.shape"
   ]
  },
  {
   "cell_type": "code",
   "execution_count": 99,
   "metadata": {},
   "outputs": [
    {
     "data": {
      "text/plain": [
       "(600, 512)"
      ]
     },
     "execution_count": 99,
     "metadata": {},
     "output_type": "execute_result"
    }
   ],
   "source": [
    "#テストデータに加えるノイズの作成\n",
    "train_noise = noise[0:divide]\n",
    "train_noise.shape"
   ]
  },
  {
   "cell_type": "code",
   "execution_count": 100,
   "metadata": {},
   "outputs": [],
   "source": [
    "#学習用データの作成\n",
    "tmp_train = []\n",
    "tmp_train.extend(train)\n",
    "tmp_train.extend(train_noise)\n",
    "#評価用データの作成\n",
    "tmp_test_train = []\n",
    "tmp_test_train.extend(test_train)\n",
    "tmp_test_train.extend(test_test)"
   ]
  },
  {
   "cell_type": "code",
   "execution_count": 101,
   "metadata": {},
   "outputs": [
    {
     "data": {
      "text/plain": [
       "OneClassSVM(cache_size=200, coef0=0.0, degree=3, gamma=0.0098, kernel='rbf',\n",
       "      max_iter=-1, nu=0.1, random_state=None, shrinking=True, tol=0.001,\n",
       "      verbose=False)"
      ]
     },
     "execution_count": 101,
     "metadata": {},
     "output_type": "execute_result"
    }
   ],
   "source": [
    "svm_model = svm.OneClassSVM(nu = 0.1, kernel=\"rbf\",gamma=0.0098)\n",
    "#svm_model = svm.OneClassSVM(nu = 0.1, kernel=\"rbf\",gamma=0.01)\n",
    "svm_model.fit(tmp_train)"
   ]
  },
  {
   "cell_type": "code",
   "execution_count": 103,
   "metadata": {},
   "outputs": [
    {
     "data": {
      "text/plain": [
       "(1000, 512)"
      ]
     },
     "execution_count": 103,
     "metadata": {},
     "output_type": "execute_result"
    }
   ],
   "source": [
    "#len(tmp_test_train)\n",
    "test_train.shape"
   ]
  },
  {
   "cell_type": "code",
   "execution_count": 102,
   "metadata": {},
   "outputs": [
    {
     "name": "stdout",
     "output_type": "stream",
     "text": [
      "f_value 0.8611764705882353\n"
     ]
    }
   ],
   "source": [
    "pred = svm_model.predict(tmp_test_train)\n",
    "        \n",
    "real_true_pred = pred[0:1000]\n",
    "real_false_pred = pred[1000 : 2000]\n",
    "        \n",
    "tp = len(real_true_pred[real_true_pred == 1]) / len(real_true_pred)\n",
    "fn = len(real_true_pred[real_true_pred == -1]) / len(real_true_pred)\n",
    "        \n",
    "fp = len(real_false_pred[real_false_pred == -1]) / len(real_false_pred)\n",
    "tn = len(real_false_pred[real_false_pred == 1]) / len(real_false_pred)\n",
    "        \n",
    "precision = tp/(tp + fp)\n",
    "recall = tp/(tp + fn)\n",
    "f_value = (2 * precision * recall) / (precision + recall)\n",
    "\n",
    "print(\"f_value \" + str(f_value))"
   ]
  },
  {
   "cell_type": "code",
   "execution_count": 79,
   "metadata": {},
   "outputs": [
    {
     "data": {
      "image/png": "[encoded data removed]",
      "text/plain": [
       "<Figure size 432x288 with 1 Axes>"
      ]
     },
     "metadata": {
      "needs_background": "light"
     },
     "output_type": "display_data"
    }
   ],
   "source": [
    "#予想された値をグラフ化し表示・保存\n",
    "x = np.arange(0, 1100, 1)\n",
    "plt.plot(x, pred)\n",
    "#plt.savefig('SVMmnist.png')\n",
    "plt.show()"
   ]
  },
  {
   "cell_type": "code",
   "execution_count": 74,
   "metadata": {},
   "outputs": [
    {
     "data": {
      "image/png": "[encoded data removed]",
      "text/plain": [
       "<Figure size 432x288 with 1 Axes>"
      ]
     },
     "metadata": {
      "needs_background": "light"
     },
     "output_type": "display_data"
    }
   ],
   "source": [
    "plt.imshow(svm_test_6[108].reshape(32,16),cmap='Greys')\n",
    "plt.show()"
   ]
  },
  {
   "cell_type": "code",
   "execution_count": 8,
   "metadata": {},
   "outputs": [],
   "source": [
    "#ファイル内のjpg画像を一括読み込みする関数\n",
    "def fileRead():\n",
    "    data = []\n",
    "    for file in glob.glob(\"C:/Users/satok/.keras/datasets/fashion-mnist-images/*.jpg\"):\n",
    "        data.append( cv2.imread(file, 0) )\n",
    "    return data"
   ]
  },
  {
   "cell_type": "code",
   "execution_count": 17,
   "metadata": {},
   "outputs": [],
   "source": [
    "data = fileRead()"
   ]
  },
  {
   "cell_type": "code",
   "execution_count": 21,
   "metadata": {},
   "outputs": [
    {
     "data": {
      "text/plain": [
       "array([0, 0, 0, 0, 0, 0, 0, 0, 0, 0, 0, 0, 0, 0, 0, 0, 0, 0, 0, 0, 0, 0,\n",
       "       0, 0, 4, 0, 0, 7, 4, 0, 0, 8, 1, 2, 2, 3, 2, 1, 0, 0, 0, 0, 0, 0,\n",
       "       0, 0, 0, 0], dtype=uint8)"
      ]
     },
     "execution_count": 21,
     "metadata": {},
     "output_type": "execute_result"
    }
   ],
   "source": [
    "#len(data)\n",
    "data[0][0]"
   ]
  },
  {
   "cell_type": "code",
   "execution_count": null,
   "metadata": {},
   "outputs": [],
   "source": [
    "hog_train = []\n",
    "winsize = (48,48)\n",
    "block_size = (16,16)\n",
    "block_stride = (8,8)\n",
    "cell_size = (8,8)\n",
    "nbins = 9\n",
    "\n",
    "hog = cv2.HOGDescriptor()\n",
    "for filepath in data:\n",
    "    hog_train.append(hog.compute(filepath))\n",
    "\n",
    "hog_train = np.array(hog_train)"
   ]
  },
  {
   "cell_type": "code",
   "execution_count": null,
   "metadata": {},
   "outputs": [],
   "source": []
  }
 ],
 "metadata": {
  "kernelspec": {
   "display_name": "Python 3",
   "language": "python",
   "name": "python3"
  },
  "language_info": {
   "codemirror_mode": {
    "name": "ipython",
    "version": 3
   },
   "file_extension": ".py",
   "mimetype": "text/x-python",
   "name": "python",
   "nbconvert_exporter": "python",
   "pygments_lexer": "ipython3",
   "version": "3.6.8"
  }
 },
 "nbformat": 4,
 "nbformat_minor": 2
}
